{
 "cells": [
  {
   "cell_type": "code",
   "execution_count": null,
   "id": "initial_id",
   "metadata": {
    "collapsed": true
   },
   "outputs": [],
   "source": [
    "!git clone https://github.com/ToelUl/Thermal-Phase-Transition-MC-GPU-Simulation.git\n",
    "\n",
    "!cp -r Thermal-Phase-Transition-MC-GPU-Simulation/gpu_mc ./"
   ]
  },
  {
   "metadata": {},
   "cell_type": "code",
   "outputs": [],
   "execution_count": null,
   "source": [
    "import time\n",
    "import matplotlib.pyplot as plt\n",
    "\n",
    "from gpu_mc import PottsModel\n",
    "\n",
    "import torch\n",
    "\n",
    "if not torch.cuda.is_available():\n",
    "    print(\"⚠️ GPU runtime is not enabled. Please go to 'Runtime' > 'Change runtime type' and set 'Hardware accelerator' to 'GPU'.\")\n",
    "else:\n",
    "    print(\"✅ GPU runtime is enabled and ready!\")"
   ],
   "id": "f7ef407ead9187d2"
  },
  {
   "metadata": {},
   "cell_type": "code",
   "outputs": [],
   "execution_count": null,
   "source": [
    "L = 32\n",
    "\n",
    "T = torch.linspace(0.5, 1.5, steps=32)\n",
    "\n",
    "sampler_potts = PottsModel(\n",
    "    L=L,\n",
    "    T=T,\n",
    "    q=3,\n",
    "    n_chains=30,\n",
    "    device=torch.device(\"cuda\"),\n",
    "    use_amp=True,\n",
    "    pt_enabled=False,\n",
    "    )\n",
    "\n",
    "start = time.time()\n",
    "samples_potts = sampler_potts(n_sweeps=1000, n_therm=5000, decorrelate=10)\n",
    "end = time.time()\n",
    "print(f\"Elapsed time: {end - start:.2f} s\")"
   ],
   "id": "e11cf9cabd472ec9"
  },
  {
   "metadata": {},
   "cell_type": "code",
   "outputs": [],
   "execution_count": null,
   "source": [
    "print(f\"Samples shape: {samples_potts.shape}\")\n",
    "\n",
    "sampler_potts.spins = samples_potts\n",
    "\n",
    "energy_potts = sampler_potts.compute_energy().mean(dim=1).cpu().numpy() / L**2\n",
    "capacity_potts = sampler_potts.compute_heat_capacity().cpu().numpy()\n",
    "\n",
    "plt.figure(figsize=(12, 4))\n",
    "plt.subplot(121)\n",
    "plt.plot(T.cpu().numpy(), energy_potts, label='Energy', marker='o')\n",
    "plt.xlabel('Temperature')\n",
    "plt.ylabel('Energy')\n",
    "plt.title('Energy vs. Temperature')\n",
    "plt.subplot(122)\n",
    "plt.plot(T.cpu().numpy(), capacity_potts, label='Heat Capacity', marker='o')\n",
    "plt.xlabel('Temperature')\n",
    "plt.ylabel('Specific Heat Capacity')\n",
    "plt.title('Specific Heat Capacity vs. Temperature')\n",
    "plt.tight_layout()"
   ],
   "id": "6ccb21e6c6be14e4"
  }
 ],
 "metadata": {
  "kernelspec": {
   "display_name": "Python 3",
   "language": "python",
   "name": "python3"
  },
  "language_info": {
   "codemirror_mode": {
    "name": "ipython",
    "version": 2
   },
   "file_extension": ".py",
   "mimetype": "text/x-python",
   "name": "python",
   "nbconvert_exporter": "python",
   "pygments_lexer": "ipython2",
   "version": "2.7.6"
  }
 },
 "nbformat": 4,
 "nbformat_minor": 5
}
