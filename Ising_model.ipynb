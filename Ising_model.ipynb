{
 "cells": [
  {
   "cell_type": "code",
   "id": "initial_id",
   "metadata": {
    "collapsed": true
   },
   "source": [
    "!git clone https://github.com/ToelUl/Thermal-Phase-Transition-MC-GPU-Simulation.git\n",
    "\n",
    "!cp -r Thermal-Phase-Transition-MC-GPU-Simulation/gpu_mc ./"
   ],
   "outputs": [],
   "execution_count": null
  },
  {
   "metadata": {},
   "cell_type": "code",
   "source": [
    "import time\n",
    "import matplotlib.pyplot as plt\n",
    "\n",
    "from gpu_mc import IsingModel\n",
    "\n",
    "import torch\n",
    "\n",
    "if not torch.cuda.is_available():\n",
    "    print(\"⚠️ GPU runtime is not enabled. Please go to 'Runtime' > 'Change runtime type' and set 'Hardware accelerator' to 'GPU'.\")\n",
    "else:\n",
    "    print(\"✅ GPU runtime is enabled and ready!\")"
   ],
   "id": "a315adea61b0f171",
   "outputs": [],
   "execution_count": null
  },
  {
   "metadata": {},
   "cell_type": "code",
   "source": [
    "L = 16\n",
    "\n",
    "T = torch.linspace(1.0, 3.5, steps=32)\n",
    "\n",
    "sampler_ising = IsingModel(\n",
    "    L=L,\n",
    "    T=T,\n",
    "    n_chains=30,\n",
    "    device=torch.device(\"cuda\"),\n",
    "    use_amp=True,\n",
    "    pt_enabled=False,\n",
    "    )\n",
    "\n",
    "start = time.time()\n",
    "samples_ising = sampler_ising(n_sweeps=1000, n_therm=3000, decorrelate=10)\n",
    "end = time.time()\n",
    "print(f\"Elapsed time: {end - start:.2f} s\")"
   ],
   "id": "73279e9a9361a7",
   "outputs": [],
   "execution_count": null
  },
  {
   "metadata": {},
   "cell_type": "code",
   "source": [
    "print(f\"Samples shape: {samples_ising.shape}\")\n",
    "\n",
    "sampler_ising.spins = samples_ising\n",
    "\n",
    "energy_ising = sampler_ising.compute_energy().mean(dim=1).cpu().numpy() / L**2\n",
    "capacity_ising = sampler_ising.compute_heat_capacity().cpu().numpy()\n",
    "magnetization_ising = sampler_ising.compute_magnetization().cpu().numpy()\n",
    "\n",
    "plt.figure(figsize=(16, 4))\n",
    "plt.subplot(131)\n",
    "plt.plot(T.cpu().numpy(), energy_ising, label='Energy', marker='o')\n",
    "plt.xlabel('Temperature')\n",
    "plt.ylabel('Energy')\n",
    "plt.title('Energy vs. Temperature')\n",
    "plt.subplot(132)\n",
    "plt.plot(T.cpu().numpy(), capacity_ising, label='Heat Capacity', marker='o')\n",
    "plt.xlabel('Temperature')\n",
    "plt.ylabel('Specific Heat Capacity')\n",
    "plt.title('Specific Heat Capacity vs. Temperature')\n",
    "plt.subplot(133)\n",
    "plt.plot(T.cpu().numpy(), magnetization_ising, label='Magnetization', marker='o')\n",
    "plt.xlabel('Temperature')\n",
    "plt.ylabel('Magnetization')\n",
    "plt.title('Magnetization vs. Temperature')\n",
    "plt.tight_layout()\n",
    "plt.show()"
   ],
   "id": "58d2371db54b0f6e",
   "outputs": [],
   "execution_count": null
  }
 ],
 "metadata": {
  "kernelspec": {
   "display_name": "Python 3",
   "language": "python",
   "name": "python3"
  },
  "language_info": {
   "codemirror_mode": {
    "name": "ipython",
    "version": 2
   },
   "file_extension": ".py",
   "mimetype": "text/x-python",
   "name": "python",
   "nbconvert_exporter": "python",
   "pygments_lexer": "ipython2",
   "version": "2.7.6"
  }
 },
 "nbformat": 4,
 "nbformat_minor": 5
}
