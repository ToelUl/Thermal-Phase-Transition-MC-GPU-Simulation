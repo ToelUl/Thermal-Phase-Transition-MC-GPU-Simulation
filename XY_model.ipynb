{
 "cells": [
  {
   "cell_type": "code",
   "execution_count": null,
   "id": "initial_id",
   "metadata": {
    "collapsed": true
   },
   "outputs": [],
   "source": [
    "!git clone https://github.com/ToelUl/Thermal-Phase-Transition-MC-GPU-Simulation.git\n",
    "\n",
    "!cp -r Thermal-Phase-Transition-MC-GPU-Simulation/gpu_mc ./"
   ]
  },
  {
   "metadata": {},
   "cell_type": "code",
   "outputs": [],
   "execution_count": null,
   "source": [
    "import time\n",
    "import matplotlib.pyplot as plt\n",
    "\n",
    "from gpu_mc import XYModel\n",
    "\n",
    "import torch\n",
    "\n",
    "if not torch.cuda.is_available():\n",
    "    print(\"⚠️ GPU runtime is not enabled. Please go to 'Runtime' > 'Change runtime type' and set 'Hardware accelerator' to 'GPU'.\")\n",
    "else:\n",
    "    print(\"✅ GPU runtime is enabled and ready!\")"
   ],
   "id": "4afb5cf82bd008b6"
  },
  {
   "metadata": {},
   "cell_type": "code",
   "outputs": [],
   "execution_count": null,
   "source": [
    "L = 32\n",
    "\n",
    "T = torch.linspace(0.6, 1.5, steps=32)\n",
    "\n",
    "sampler_xy = XYModel(\n",
    "    L=L,\n",
    "    T=T,\n",
    "    n_chains=30,\n",
    "    adaptive=False,\n",
    "    target_acceptance=0.5,\n",
    "    adapt_rate=0.1,\n",
    "    device=torch.device(\"cuda\"),\n",
    "    use_amp=True,\n",
    "    pt_enabled=True, # Suggestions: Parallel tempering enabled for better sampling.\n",
    "    )\n",
    "\n",
    "start = time.time()\n",
    "samples_xy = sampler_xy(n_sweeps=3000, n_therm=10000, decorrelate=10, pt_interval=10)\n",
    "end = time.time()\n",
    "print(f\"Elapsed time: {end - start:.2f} s\")"
   ],
   "id": "ed06c1f4efc600aa"
  },
  {
   "metadata": {},
   "cell_type": "code",
   "outputs": [],
   "execution_count": null,
   "source": [
    "print(f\"Samples shape: {samples_xy.shape}\")\n",
    "\n",
    "sampler_xy.spins = samples_xy\n",
    "\n",
    "energy_xy = sampler_xy.compute_energy().mean(dim=1).cpu().numpy() / L**2\n",
    "capacity_xy = sampler_xy.compute_heat_capacity().cpu().numpy()\n",
    "stiffness_xy = sampler_xy.compute_spin_stiffness().cpu().numpy()\n",
    "\n",
    "plt.figure(figsize=(16, 4))\n",
    "plt.subplot(131)\n",
    "plt.plot(T.cpu().numpy(), energy_xy, label='Energy', marker='o')\n",
    "plt.xlabel('Temperature')\n",
    "plt.ylabel('Energy')\n",
    "plt.title('Energy vs. Temperature')\n",
    "plt.subplot(132)\n",
    "plt.plot(T.cpu().numpy(), capacity_xy, label='Heat Capacity', marker='o')\n",
    "plt.xlabel('Temperature')\n",
    "plt.ylabel('Specific Heat Capacity')\n",
    "plt.title('Specific Heat Capacity vs. Temperature')\n",
    "plt.subplot(133)\n",
    "plt.plot(T.cpu().numpy(), stiffness_xy, label='Spin Stiffness', marker='o')\n",
    "plt.xlabel('Temperature')\n",
    "plt.ylabel('Spin Stiffness')\n",
    "plt.title('Spin Stiffness vs. Temperature')\n",
    "plt.tight_layout()\n",
    "plt.show()"
   ],
   "id": "81789b3a8b8c462e"
  }
 ],
 "metadata": {
  "kernelspec": {
   "display_name": "Python 3",
   "language": "python",
   "name": "python3"
  },
  "language_info": {
   "codemirror_mode": {
    "name": "ipython",
    "version": 2
   },
   "file_extension": ".py",
   "mimetype": "text/x-python",
   "name": "python",
   "nbconvert_exporter": "python",
   "pygments_lexer": "ipython2",
   "version": "2.7.6"
  }
 },
 "nbformat": 4,
 "nbformat_minor": 5
}
